{
  "nbformat": 4,
  "nbformat_minor": 0,
  "metadata": {
    "colab": {
      "provenance": [],
      "collapsed_sections": []
    },
    "kernelspec": {
      "name": "python3",
      "display_name": "Python 3"
    },
    "language_info": {
      "name": "python"
    }
  },
  "cells": [
    {
      "cell_type": "markdown",
      "source": [
        "## Algoritmo de Ordenamiento por Burbuja\n",
        "\n",
        "Este algoritmo de ordenamiento es popular, pero ineficiente. Pues repite una y otra vez los elementos adjacentes (esto hace que tarde mucho tiempo)."
      ],
      "metadata": {
        "id": "lMEMoqq6HRCN"
      }
    },
    {
      "cell_type": "code",
      "source": [
        "def ordenamientoBurbuja(array): ## de manera ascendente\n",
        "\n",
        "  for i in range(len(array), 0, -1): \n",
        "    ## comienza en el length, y va disminuyendo hasta 0\n",
        "\n",
        "    for j in range(0, i-1):\n",
        "      if array[j] > array[j+1]:\n",
        "        ## Si el elemento en la posicion j es mayor que j+1, entonces debemos intercambiar sus posiciones\n",
        "        array[j], array[j+1] = array[j+1], array[j]\n",
        "        \n",
        "  return \n"
      ],
      "metadata": {
        "id": "wdBnaZtoHgYe"
      },
      "execution_count": 30,
      "outputs": []
    },
    {
      "cell_type": "code",
      "source": [
        "lista = [22,14,10,5,6,2,1,2,21,13]\n",
        "\n",
        "ordenamientoBurbuja(lista)\n",
        "print(f\"Lista Organizada:{lista}\")"
      ],
      "metadata": {
        "colab": {
          "base_uri": "https://localhost:8080/"
        },
        "id": "aiNIWHaDLiV_",
        "outputId": "6811bc91-1a40-443e-a374-0c8fcd299001"
      },
      "execution_count": 31,
      "outputs": [
        {
          "output_type": "stream",
          "name": "stdout",
          "text": [
            "Lista Organizada:[1, 2, 2, 5, 6, 10, 13, 14, 21, 22]\n"
          ]
        }
      ]
    }
  ]
}